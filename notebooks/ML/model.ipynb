{
 "cells": [
  {
   "cell_type": "markdown",
   "metadata": {},
   "source": [
    "# Data Science Component Building \n",
    "### time series analysis, classification of headlines,topic modelling and sentimenta analysis and predictive analysis and modelling among various global media agencies\n",
    "\n",
    "This section aims to build various models for our data inorder to gain a deeper understanding. Using the insights we gained from the EDA, we create various pipelines.\n"
   ]
  },
  {
   "cell_type": "markdown",
   "metadata": {},
   "source": [
    "## Tools\n",
    "\n",
    "I'll be using the library like nltk, sklearn, gensim and various other libraries to facilitate in creating various models\n"
   ]
  },
  {
   "cell_type": "code",
   "execution_count": 1,
   "metadata": {},
   "outputs": [],
   "source": [
    "# preparing and importing the necessary packages \n",
    "import pandas as pd\n",
    "import numpy as np\n",
    "import sys\n",
    "import os\n",
    "# Manually setting the correct path to src directory\n",
    "sys.path.append(\"../../../OFFICAL WEEK0\")\n",
    "\n",
    "from src.loader import NewsDataLoader\n",
    "import src.utils_ml as utils_ml\n",
    "import src.utils as utils\n"
   ]
  },
  {
   "cell_type": "code",
   "execution_count": 2,
   "metadata": {},
   "outputs": [],
   "source": [
    "# defining the appropriate path for each path\n",
    "path = {\n",
    "    \"rating\":\"../../data/cleaned_rating.csv\",\n",
    "    \"domains_location\":os.environ['DOMAINS_LOCATION_PATH'],\n",
    "    \"traffic\":\"../../data/cleaned_traffic.csv\"}\n",
    "\n",
    "# initiating the newsdataloader class\n",
    "data_loader = NewsDataLoader(path)"
   ]
  },
  {
   "cell_type": "code",
   "execution_count": 3,
   "metadata": {},
   "outputs": [],
   "source": [
    "# importing relevant data by using the NewsDataloader class \n",
    "rating = data_loader.get_data(\"rating\")\n",
    "\n",
    "domains_location = data_loader.get_data(\"domains_location\")\n",
    "\n",
    "traffic = data_loader.get_data(\"traffic\")"
   ]
  },
  {
   "cell_type": "markdown",
   "metadata": {},
   "source": [
    "### For further analysis let's take in the data and clean it up for nltk"
   ]
  },
  {
   "cell_type": "markdown",
   "metadata": {},
   "source": [
    "## Text cleaning\n",
    "\n",
    "### Removing noise"
   ]
  },
  {
   "cell_type": "markdown",
   "metadata": {},
   "source": [
    "we will be doing the following:\n",
    "* Remove the stopwords.\n",
    "* Make all the text lowercase.\n",
    "* Remove punctuation.\n",
    "* Normalizing the data by using lemmatization."
   ]
  },
  {
   "cell_type": "code",
   "execution_count": 4,
   "metadata": {},
   "outputs": [],
   "source": [
    "rating[[\"title\",\"content\"]] = rating[[\"title\",\"content\"]].map(utils_ml.pre_process)"
   ]
  },
  {
   "cell_type": "markdown",
   "metadata": {},
   "source": [
    "once the data is cleaned we can use TfidfVectorizer and cosine similarity which is included in the \"extract_similarity\" function which recieves two columns and sets the similarity among them in the third column "
   ]
  },
  {
   "cell_type": "code",
   "execution_count": 5,
   "metadata": {},
   "outputs": [],
   "source": [
    "utils_ml.extract_similarity(rating,\"title\",\"content\",\"title_content_similarity\")"
   ]
  },
  {
   "cell_type": "code",
   "execution_count": 6,
   "metadata": {},
   "outputs": [
    {
     "data": {
      "image/png": "[encoded data removed]",
      "text/plain": [
       "<Figure size 800x600 with 1 Axes>"
      ]
     },
     "metadata": {},
     "output_type": "display_data"
    }
   ],
   "source": [
    "utils.histogram(rating,rating[\"title_content_similarity\"],\"Histogram that represents the various title content similarity\",\"Title Content Similarity\",\"Frequency\",figsize=(8,6),bins=50)"
   ]
  },
  {
   "cell_type": "markdown",
   "metadata": {},
   "source": [
    "the histogram shows that there is not much similarity between the content and title"
   ]
  },
  {
   "cell_type": "markdown",
   "metadata": {},
   "source": [
    "next for further analysis let's add the keywords to each column"
   ]
  },
  {
   "cell_type": "code",
   "execution_count": 7,
   "metadata": {},
   "outputs": [],
   "source": [
    "top_features = utils_ml.key_word_extractor(rating[\"content\"])"
   ]
  },
  {
   "cell_type": "code",
   "execution_count": 8,
   "metadata": {},
   "outputs": [
    {
     "data": {
      "text/html": [
       "<div>\n",
       "<style scoped>\n",
       "    .dataframe tbody tr th:only-of-type {\n",
       "        vertical-align: middle;\n",
       "    }\n",
       "\n",
       "    .dataframe tbody tr th {\n",
       "        vertical-align: top;\n",
       "    }\n",
       "\n",
       "    .dataframe thead th {\n",
       "        text-align: right;\n",
       "    }\n",
       "</style>\n",
       "<table border=\"1\" class=\"dataframe\">\n",
       "  <thead>\n",
       "    <tr style=\"text-align: right;\">\n",
       "      <th></th>\n",
       "      <th>top_keywords</th>\n",
       "    </tr>\n",
       "  </thead>\n",
       "  <tbody>\n",
       "    <tr>\n",
       "      <th>0</th>\n",
       "      <td>[london, pavyllon, lane, hotel, park, season, ...</td>\n",
       "    </tr>\n",
       "    <tr>\n",
       "      <th>1</th>\n",
       "      <td>[nice, hicham, clermont, boudaoui, lowly, seco...</td>\n",
       "    </tr>\n",
       "    <tr>\n",
       "      <th>2</th>\n",
       "      <td>[amphibian, salamander, newt, frog, 2579, stud...</td>\n",
       "    </tr>\n",
       "    <tr>\n",
       "      <th>3</th>\n",
       "      <td>[sediment, redorange, ironrich, betsiboka, 756...</td>\n",
       "    </tr>\n",
       "    <tr>\n",
       "      <th>4</th>\n",
       "      <td>[sayi, 3913, existential, streamer, lineup, ma...</td>\n",
       "    </tr>\n",
       "    <tr>\n",
       "      <th>...</th>\n",
       "      <td>...</td>\n",
       "    </tr>\n",
       "    <tr>\n",
       "      <th>54578</th>\n",
       "      <td>[troublesthe, shivakumar, 2527, karnataka, wro...</td>\n",
       "    </tr>\n",
       "    <tr>\n",
       "      <th>54579</th>\n",
       "      <td>[fc, barcelona, mundo, 7676, deportivo, europa...</td>\n",
       "    </tr>\n",
       "    <tr>\n",
       "      <th>54580</th>\n",
       "      <td>[david, story, lubarskys, lubarsky, unsung, fe...</td>\n",
       "    </tr>\n",
       "    <tr>\n",
       "      <th>54581</th>\n",
       "      <td>[farm, kerbers, bringing, village, west, 4513,...</td>\n",
       "    </tr>\n",
       "    <tr>\n",
       "      <th>54582</th>\n",
       "      <td>[upperkey, conside, proptech, 6454, passionate...</td>\n",
       "    </tr>\n",
       "  </tbody>\n",
       "</table>\n",
       "<p>54583 rows × 1 columns</p>\n",
       "</div>"
      ],
      "text/plain": [
       "                                            top_keywords\n",
       "0      [london, pavyllon, lane, hotel, park, season, ...\n",
       "1      [nice, hicham, clermont, boudaoui, lowly, seco...\n",
       "2      [amphibian, salamander, newt, frog, 2579, stud...\n",
       "3      [sediment, redorange, ironrich, betsiboka, 756...\n",
       "4      [sayi, 3913, existential, streamer, lineup, ma...\n",
       "...                                                  ...\n",
       "54578  [troublesthe, shivakumar, 2527, karnataka, wro...\n",
       "54579  [fc, barcelona, mundo, 7676, deportivo, europa...\n",
       "54580  [david, story, lubarskys, lubarsky, unsung, fe...\n",
       "54581  [farm, kerbers, bringing, village, west, 4513,...\n",
       "54582  [upperkey, conside, proptech, 6454, passionate...\n",
       "\n",
       "[54583 rows x 1 columns]"
      ]
     },
     "execution_count": 8,
     "metadata": {},
     "output_type": "execute_result"
    }
   ],
   "source": [
    "top_features"
   ]
  },
  {
   "cell_type": "code",
   "execution_count": 9,
   "metadata": {},
   "outputs": [],
   "source": [
    "rating.reset_index(drop=True, inplace=True)\n",
    "top_features.reset_index(drop=True, inplace=True)\n",
    "rating = pd.concat([rating, top_features], axis=1)"
   ]
  },
  {
   "cell_type": "code",
   "execution_count": 10,
   "metadata": {},
   "outputs": [],
   "source": [
    "topics = {\n",
    "    \"Breaking News\": [\"breaking\", \"news\", \"update\", \"latest\", \"developing\"],\n",
    "    \"Politics\": [\"politics\", \"government\", \"election\", \"candidate\", \"party\"],\n",
    "    \"World News\": [\"world\", \"global\", \"international\", \"foreign\", \"diplomacy\"],\n",
    "    \"Business/Finance\": [\"business\", \"finance\", \"economy\", \"market\", \"stock\"],\n",
    "    \"Technology\": [\"tech\", \"technology\", \"innovation\", \"gadget\", \"startup\"],\n",
    "    \"Science\": [\"science\", \"research\", \"study\", \"experiment\", \"discovery\"],\n",
    "    \"Health\": [\"health\", \"medicine\", \"wellness\", \"fitness\", \"disease\"],\n",
    "    \"Entertainment\": [\"entertainment\", \"movie\", \"tv\", \"music\", \"celebrity\"],\n",
    "    \"Sports\": [\"sports\", \"game\", \"team\", \"player\", \"championship\"],\n",
    "    \"Environment\": [\"environment\", \"climate\", \"sustainability\", \"green\", \"eco\"],\n",
    "    \"Crime\": [\"crime\", \"justice\", \"law\", \"police\", \"investigation\"],\n",
    "    \"Education\": [\"education\", \"school\", \"university\", \"learning\", \"teacher\"],\n",
    "    \"Weather\": [\"weather\", \"forecast\", \"climate\", \"storm\", \"hurricane\"],\n",
    "    \"Other\": [\"misc\", \"general\", \"random\", \"unknown\", \"unclassified\"]\n",
    "}"
   ]
  },
  {
   "cell_type": "markdown",
   "metadata": {},
   "source": [
    "For categorizing the text to the above topics let's use both the title and the extracted keywords"
   ]
  },
  {
   "cell_type": "code",
   "execution_count": 11,
   "metadata": {},
   "outputs": [],
   "source": [
    "\n",
    "title_tag = pd.DataFrame(utils_ml.categorize_headlines(rating['title'], topics),columns=[\"title_tag\"])\n",
    "\n",
    "keyword_tag = pd.DataFrame(utils_ml.categorize_headlines(rating['top_keywords'].apply(lambda x:\" \".join(x)), topics),columns=[\"keyword_tag\"])\n",
    "\n",
    "title_tag.reset_index(drop=True, inplace=True)\n",
    "keyword_tag.reset_index(drop=True, inplace=True)\n",
    "\n",
    "# let's combine it to fill columns with other tags so that it could be more descriptive\n",
    "title_keyword_merged = pd.concat([title_tag, keyword_tag], axis=1)"
   ]
  },
  {
   "cell_type": "code",
   "execution_count": 12,
   "metadata": {},
   "outputs": [],
   "source": [
    "title_keyword_merged.reset_index(drop=True, inplace=True)\n",
    "keyword_tag.reset_index(drop=True, inplace=True)\n",
    "\n",
    "# let's combine it to fill columns with other tags so that it could be more descriptive\n",
    "title_keyword_merged = pd.concat([title_tag, keyword_tag], axis=1)"
   ]
  },
  {
   "cell_type": "code",
   "execution_count": 13,
   "metadata": {},
   "outputs": [
    {
     "data": {
      "text/html": [
       "<div>\n",
       "<style scoped>\n",
       "    .dataframe tbody tr th:only-of-type {\n",
       "        vertical-align: middle;\n",
       "    }\n",
       "\n",
       "    .dataframe tbody tr th {\n",
       "        vertical-align: top;\n",
       "    }\n",
       "\n",
       "    .dataframe thead th {\n",
       "        text-align: right;\n",
       "    }\n",
       "</style>\n",
       "<table border=\"1\" class=\"dataframe\">\n",
       "  <thead>\n",
       "    <tr style=\"text-align: right;\">\n",
       "      <th></th>\n",
       "      <th>title_tag</th>\n",
       "      <th>keyword_tag</th>\n",
       "    </tr>\n",
       "  </thead>\n",
       "  <tbody>\n",
       "    <tr>\n",
       "      <th>0</th>\n",
       "      <td>Other</td>\n",
       "      <td>Other</td>\n",
       "    </tr>\n",
       "    <tr>\n",
       "      <th>1</th>\n",
       "      <td>Other</td>\n",
       "      <td>Environment</td>\n",
       "    </tr>\n",
       "    <tr>\n",
       "      <th>2</th>\n",
       "      <td>World News</td>\n",
       "      <td>Other</td>\n",
       "    </tr>\n",
       "    <tr>\n",
       "      <th>3</th>\n",
       "      <td>Other</td>\n",
       "      <td>Other</td>\n",
       "    </tr>\n",
       "    <tr>\n",
       "      <th>4</th>\n",
       "      <td>Other</td>\n",
       "      <td>Other</td>\n",
       "    </tr>\n",
       "    <tr>\n",
       "      <th>...</th>\n",
       "      <td>...</td>\n",
       "      <td>...</td>\n",
       "    </tr>\n",
       "    <tr>\n",
       "      <th>54578</th>\n",
       "      <td>Politics</td>\n",
       "      <td>Other</td>\n",
       "    </tr>\n",
       "    <tr>\n",
       "      <th>54579</th>\n",
       "      <td>Other</td>\n",
       "      <td>Other</td>\n",
       "    </tr>\n",
       "    <tr>\n",
       "      <th>54580</th>\n",
       "      <td>Other</td>\n",
       "      <td>Other</td>\n",
       "    </tr>\n",
       "    <tr>\n",
       "      <th>54581</th>\n",
       "      <td>Other</td>\n",
       "      <td>Other</td>\n",
       "    </tr>\n",
       "    <tr>\n",
       "      <th>54582</th>\n",
       "      <td>Other</td>\n",
       "      <td>Technology</td>\n",
       "    </tr>\n",
       "  </tbody>\n",
       "</table>\n",
       "<p>54583 rows × 2 columns</p>\n",
       "</div>"
      ],
      "text/plain": [
       "        title_tag  keyword_tag\n",
       "0           Other        Other\n",
       "1           Other  Environment\n",
       "2      World News        Other\n",
       "3           Other        Other\n",
       "4           Other        Other\n",
       "...           ...          ...\n",
       "54578    Politics        Other\n",
       "54579       Other        Other\n",
       "54580       Other        Other\n",
       "54581       Other        Other\n",
       "54582       Other   Technology\n",
       "\n",
       "[54583 rows x 2 columns]"
      ]
     },
     "execution_count": 13,
     "metadata": {},
     "output_type": "execute_result"
    }
   ],
   "source": [
    "title_keyword_merged"
   ]
  },
  {
   "cell_type": "code",
   "execution_count": 14,
   "metadata": {},
   "outputs": [
    {
     "data": {
      "text/html": [
       "<div>\n",
       "<style scoped>\n",
       "    .dataframe tbody tr th:only-of-type {\n",
       "        vertical-align: middle;\n",
       "    }\n",
       "\n",
       "    .dataframe tbody tr th {\n",
       "        vertical-align: top;\n",
       "    }\n",
       "\n",
       "    .dataframe thead th {\n",
       "        text-align: right;\n",
       "    }\n",
       "</style>\n",
       "<table border=\"1\" class=\"dataframe\">\n",
       "  <thead>\n",
       "    <tr style=\"text-align: right;\">\n",
       "      <th></th>\n",
       "      <th>title_tag</th>\n",
       "      <th>keyword_tag</th>\n",
       "    </tr>\n",
       "  </thead>\n",
       "  <tbody>\n",
       "    <tr>\n",
       "      <th>0</th>\n",
       "      <td>Other</td>\n",
       "      <td>Other</td>\n",
       "    </tr>\n",
       "    <tr>\n",
       "      <th>1</th>\n",
       "      <td>Other</td>\n",
       "      <td>Environment</td>\n",
       "    </tr>\n",
       "    <tr>\n",
       "      <th>2</th>\n",
       "      <td>World News</td>\n",
       "      <td>Other</td>\n",
       "    </tr>\n",
       "    <tr>\n",
       "      <th>3</th>\n",
       "      <td>Other</td>\n",
       "      <td>Other</td>\n",
       "    </tr>\n",
       "    <tr>\n",
       "      <th>4</th>\n",
       "      <td>Other</td>\n",
       "      <td>Other</td>\n",
       "    </tr>\n",
       "    <tr>\n",
       "      <th>...</th>\n",
       "      <td>...</td>\n",
       "      <td>...</td>\n",
       "    </tr>\n",
       "    <tr>\n",
       "      <th>54578</th>\n",
       "      <td>Politics</td>\n",
       "      <td>Other</td>\n",
       "    </tr>\n",
       "    <tr>\n",
       "      <th>54579</th>\n",
       "      <td>Other</td>\n",
       "      <td>Other</td>\n",
       "    </tr>\n",
       "    <tr>\n",
       "      <th>54580</th>\n",
       "      <td>Other</td>\n",
       "      <td>Other</td>\n",
       "    </tr>\n",
       "    <tr>\n",
       "      <th>54581</th>\n",
       "      <td>Other</td>\n",
       "      <td>Other</td>\n",
       "    </tr>\n",
       "    <tr>\n",
       "      <th>54582</th>\n",
       "      <td>Other</td>\n",
       "      <td>Technology</td>\n",
       "    </tr>\n",
       "  </tbody>\n",
       "</table>\n",
       "<p>54583 rows × 2 columns</p>\n",
       "</div>"
      ],
      "text/plain": [
       "        title_tag  keyword_tag\n",
       "0           Other        Other\n",
       "1           Other  Environment\n",
       "2      World News        Other\n",
       "3           Other        Other\n",
       "4           Other        Other\n",
       "...           ...          ...\n",
       "54578    Politics        Other\n",
       "54579       Other        Other\n",
       "54580       Other        Other\n",
       "54581       Other        Other\n",
       "54582       Other   Technology\n",
       "\n",
       "[54583 rows x 2 columns]"
      ]
     },
     "execution_count": 14,
     "metadata": {},
     "output_type": "execute_result"
    }
   ],
   "source": [
    "title_keyword_merged"
   ]
  },
  {
   "cell_type": "code",
   "execution_count": 15,
   "metadata": {},
   "outputs": [],
   "source": [
    "def combine_values(val1, val2):\n",
    "    \n",
    "    if val1 == 'Other':\n",
    "        if val2 == \"Other\":\n",
    "            return \"Other\"\n",
    "        else:\n",
    "            return val2\n",
    "    else:\n",
    "        if val2 == \"Other\":\n",
    "            return val1\n",
    "        elif val1 == val2 :\n",
    "            return val1\n",
    "        else:\n",
    "            val1 = [x.strip() for x in val1.split(\",\")]\n",
    "            val2 = [x.strip() for x in val2.split(\",\")]\n",
    "            valcombined = val1+val2\n",
    "            return \", \".join(list(set(valcombined)))\n",
    "title_keyword_merged_result = title_keyword_merged.apply(lambda row: combine_values(*[row[\"title_tag\"], row[\"keyword_tag\"]]),axis=1)"
   ]
  },
  {
   "cell_type": "code",
   "execution_count": 16,
   "metadata": {},
   "outputs": [],
   "source": [
    "title_keyword_merged_result.reset_index(drop=True, inplace=True)\n",
    "rating.reset_index(drop=True, inplace=True)\n",
    "\n",
    "# let's combine it to fill columns with other tags so that it could be more descriptive\n",
    "rating = pd.concat([rating, title_keyword_merged_result], axis=1)"
   ]
  },
  {
   "cell_type": "markdown",
   "metadata": {},
   "source": [
    "### Topic Modeling"
   ]
  },
  {
   "cell_type": "markdown",
   "metadata": {},
   "source": [
    "There are three ways to appraoch topic modeling, the first is using tfidfvectorizer with TruncatedSVD, the second is using an lda model lastly we will use bertopic"
   ]
  },
  {
   "cell_type": "markdown",
   "metadata": {},
   "source": [
    "Let's try both appraoches and check if there are similarities between the topics generated"
   ]
  },
  {
   "cell_type": "markdown",
   "metadata": {},
   "source": [
    "#### First Approach : Using TfIdf Vectorizer with Truncated SVD"
   ]
  },
  {
   "cell_type": "code",
   "execution_count": 17,
   "metadata": {},
   "outputs": [
    {
     "name": "stdout",
     "output_type": "stream",
     "text": [
      "['Topic 0: ', 'report', 'share', 'free', 'llc', 'quarter', 'according', 'recent']\n",
      "['Topic 1: ', 'market', '2023', 'nov', 'globe', 'newswire', 'global', 'billion']\n",
      "['Topic 2: ', 'traded', 'rating', 'price', 'report', 'stock', 'share', 'stocknewscom']\n",
      "['Topic 3: ', 'market', 'rating', 'research', 'report', 'stocknewscom', 'billion', 'usd']\n",
      "['Topic 4: ', 'traded', 'stock', 'trading', 'high', 'low', 'share', 'market']\n",
      "['Topic 5: ', 'earnings', 'result', 'november', 'quarterly', 'dividend', '2023', 'company']\n",
      "['Topic 6: ', 'gaza', 'israel', 'hamas', 'israeli', 'war', 'palestinian', 'stock']\n",
      "['Topic 7: ', 'short', 'october', 'target', '31st', 'totalling', 'month', 'price']\n",
      "['Topic 8: ', 'stock', 'share', 'sold', 'transaction', 'stocknewscom', 'rating', 'november']\n",
      "['Topic 9: ', 'india', 'world', 'earnings', 'market', 'cup', 'quarterly', 'dividend']\n"
     ]
    }
   ],
   "source": [
    "from sklearn.feature_extraction.text import TfidfVectorizer\n",
    "from sklearn.decomposition import TruncatedSVD\n",
    "\n",
    "topic_tfidf = TfidfVectorizer(stop_words=\"english\", max_features= 1000, max_df = 0.5, smooth_idf=True)\n",
    "topic_vector = topic_tfidf.fit_transform(rating[\"title\"]+\" \"+ rating[\"content\"])\n",
    "topic_vector_array= topic_vector.toarray()\n",
    "svd_model = TruncatedSVD(n_components=10, algorithm='randomized', n_iter=100, random_state=122)\n",
    "svd_model.fit(topic_vector_array)\n",
    "topic_vector_array_reduced = svd_model.transform(topic_vector_array)\n",
    "\n",
    "terms = topic_tfidf.get_feature_names_out()\n",
    "topics = []\n",
    "\n",
    "for i, comp in enumerate(svd_model.components_):\n",
    "    terms_comp = zip(terms, comp)\n",
    "    sorted_terms = sorted(terms_comp, key= lambda x:x[1], reverse=True)[:7]\n",
    "    topics.append(\"Topic \"+str(i)+\": \")\n",
    "    for t in sorted_terms:\n",
    "        topics.append(t[0])\n",
    "\n",
    "final_topic_list = [topics[i:i+8] for i in range(0, len(topics), 8)]\n",
    "\n",
    "for x in final_topic_list:\n",
    "    print (x)"
   ]
  },
  {
   "cell_type": "code",
   "execution_count": 18,
   "metadata": {},
   "outputs": [
    {
     "ename": "AttributeError",
     "evalue": "module 'src.utils_ml' has no attribute 'topic_modelling_tfidf'",
     "output_type": "error",
     "traceback": [
      "\u001b[1;31m---------------------------------------------------------------------------\u001b[0m",
      "\u001b[1;31mAttributeError\u001b[0m                            Traceback (most recent call last)",
      "Cell \u001b[1;32mIn[18], line 1\u001b[0m\n\u001b[1;32m----> 1\u001b[0m \u001b[43mutils_ml\u001b[49m\u001b[38;5;241;43m.\u001b[39;49m\u001b[43mtopic_modelling_tfidf\u001b[49m(rating[\u001b[38;5;124m\"\u001b[39m\u001b[38;5;124mtitle\u001b[39m\u001b[38;5;124m\"\u001b[39m],max_features\u001b[38;5;241m=\u001b[39m\u001b[38;5;241m1000\u001b[39m, max_df \u001b[38;5;241m=\u001b[39m \u001b[38;5;241m0.5\u001b[39m,n_components\u001b[38;5;241m=\u001b[39m\u001b[38;5;241m10\u001b[39m,n_iter\u001b[38;5;241m=\u001b[39m\u001b[38;5;241m100\u001b[39m,random_state\u001b[38;5;241m=\u001b[39m\u001b[38;5;241m122\u001b[39m)\n",
      "\u001b[1;31mAttributeError\u001b[0m: module 'src.utils_ml' has no attribute 'topic_modelling_tfidf'"
     ]
    }
   ],
   "source": [
    "\n",
    "utils_ml.topic_modelling_tfidf(rating[\"title\"],max_features=1000, max_df = 0.5,n_components=10,n_iter=100,random_state=122)"
   ]
  },
  {
   "cell_type": "markdown",
   "metadata": {},
   "source": [
    "Second Approach is to use LDA for topic modelling and assign which documents belong to which topic"
   ]
  },
  {
   "cell_type": "markdown",
   "metadata": {},
   "source": [
    "we'll vectorize and then create and apply the LDA model. Detailed funcion implementatin is shown in the utils_ml file"
   ]
  },
  {
   "cell_type": "code",
   "execution_count": null,
   "metadata": {},
   "outputs": [
    {
     "name": "stdout",
     "output_type": "stream",
     "text": [
      "[(0, '0.444*\"char\" + 0.386*\"report\" + 0.294*\"–\" + 0.293*\"inc\" + 0.283*\"free\" + 0.276*\"share\" + 0.172*\"quarter\" + 0.149*\"according\" + 0.142*\"company\" + 0.137*\"recent\"'), (1, '-0.469*\"char\" + -0.360*\"2023\" + -0.307*\"market\" + 0.218*\"inc\" + -0.179*\"nov\" + -0.167*\"globe\" + -0.165*\"newswire\" + 0.147*\"free\" + -0.143*\"global\" + 0.139*\"–\"'), (2, '0.334*\"inc\" + -0.275*\"report\" + -0.257*\"get\" + 0.212*\"according\" + 0.205*\"market\" + 0.203*\"quarter\" + 0.194*\"recent\" + 0.190*\"2023\" + -0.167*\"–\" + -0.167*\"price\"'), (3, '0.433*\"char\" + -0.427*\"market\" + -0.369*\"report\" + -0.167*\"global\" + 0.155*\"new\" + -0.155*\"research\" + -0.155*\"billion\" + -0.154*\"newswire\" + -0.154*\"globe\" + -0.141*\"nov\"'), (4, '0.378*\"stock\" + -0.372*\"report\" + 0.341*\"traded\" + 0.328*\"share\" + 0.307*\"inc\" + 0.171*\"new\" + 0.169*\"trading\" + 0.165*\"get\" + -0.148*\"rating\" + 0.136*\"last\"'), (5, '0.680*\"inc\" + -0.280*\"llc\" + -0.251*\"co\" + -0.212*\"new\" + -0.159*\"share\" + -0.158*\"traded\" + 0.152*\"november\" + -0.152*\"market\" + -0.122*\"company\" + -0.117*\"according\"'), (6, '0.457*\"new\" + -0.411*\"2023\" + -0.253*\"november\" + 0.238*\"inc\" + -0.213*\"share\" + -0.203*\"company\" + -0.186*\"earnings\" + 0.157*\"research\" + 0.146*\"market\" + -0.143*\"co\"'), (7, '-0.480*\"new\" + -0.363*\"company\" + 0.285*\"share\" + 0.281*\"stock\" + -0.201*\"earnings\" + -0.174*\"2023\" + 0.171*\"market\" + -0.142*\"get\" + 0.131*\"u\" + -0.121*\"result\"'), (8, '-0.499*\"interest\" + -0.498*\"short\" + -0.407*\"october\" + -0.163*\"31st\" + -0.142*\"totalling\" + 0.139*\"earnings\" + -0.136*\"get\" + 0.132*\"share\" + -0.122*\"month\" + 0.111*\"rating\"'), (9, '0.477*\"share\" + 0.302*\"earnings\" + -0.293*\"stock\" + -0.234*\"november\" + -0.196*\"price\" + -0.192*\"2023\" + -0.179*\"dividend\" + 0.159*\"rating\" + 0.150*\"interest\" + 0.147*\"short\"')]\n"
     ]
    }
   ],
   "source": [
    "from sklearn.feature_extraction.text import CountVectorizer\n",
    "from sklearn.decomposition import LatentDirichletAllocation\n",
    "\n",
    "vectorizer = CountVectorizer(analyzer='word', min_df=10,  stop_words='english', lowercase=True,token_pattern='[a-zA-Z0-9]{3,}',max_features=50000)"
   ]
  },
  {
   "cell_type": "code",
   "execution_count": null,
   "metadata": {},
   "outputs": [],
   "source": [
    "vectorized_feature = vectorizer.fit_transform(rating['title'])\n",
    "num_topics = 10\n",
    "# Create the LDA model\n",
    "lda_model = LatentDirichletAllocation(n_components=num_topics,max_iter=10, learning_method='online',random_state=100,batch_size=128,evaluate_every = -1,n_jobs = -1)\n",
    "lda_output = lda_model.fit_transform(data_vectorized)\n",
    "print(lada_model.components_)"
   ]
  }
 ],
 "metadata": {
  "kernelspec": {
   "display_name": "Python 3",
   "language": "python",
   "name": "python3"
  },
  "language_info": {
   "codemirror_mode": {
    "name": "ipython",
    "version": 3
   },
   "file_extension": ".py",
   "mimetype": "text/x-python",
   "name": "python",
   "nbconvert_exporter": "python",
   "pygments_lexer": "ipython3",
   "version": "3.12.2"
  }
 },
 "nbformat": 4,
 "nbformat_minor": 2
}
