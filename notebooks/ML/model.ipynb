{
 "cells": [
  {
   "cell_type": "markdown",
   "metadata": {},
   "source": [
    "# Data Science Component Building \n",
    "### time series analysis, classification of headlines,topic modelling and sentimenta analysis and predictive analysis and modelling among various global media agencies\n",
    "\n",
    "This section aims to build various models for our data inorder to gain a deeper understanding. Using the insights we gained from the EDA, we create various pipelines.\n"
   ]
  },
  {
   "cell_type": "markdown",
   "metadata": {},
   "source": [
    "## Tools\n",
    "\n",
    "I'll be using the library like nltk, sklearn, gensim and various other libraries to facilitate in creating various models\n"
   ]
  },
  {
   "cell_type": "code",
   "execution_count": 1,
   "metadata": {},
   "outputs": [],
   "source": [
    "# preparing and importing the necessary packages \n",
    "import pandas as pd\n",
    "import numpy as np\n",
    "import sys\n",
    "import os\n",
    "# Manually setting the correct path to src directory\n",
    "sys.path.append(\"../../../OFFICAL WEEK0\")\n",
    "\n",
    "from src.loader import NewsDataLoader\n",
    "import src.utils_ml as utils_ml\n",
    "import src.utils as utils\n"
   ]
  },
  {
   "cell_type": "code",
   "execution_count": 2,
   "metadata": {},
   "outputs": [],
   "source": [
    "# defining the appropriate path for each path\n",
    "path = {\n",
    "    \"rating\":\"../../data/cleaned_rating.csv\",\n",
    "    \"domains_location\":os.environ['DOMAINS_LOCATION_PATH'],\n",
    "    \"traffic\":\"../../data/cleaned_traffic.csv\"}\n",
    "\n",
    "# initiating the newsdataloader class\n",
    "data_loader = NewsDataLoader(path)"
   ]
  },
  {
   "cell_type": "code",
   "execution_count": null,
   "metadata": {},
   "outputs": [],
   "source": [
    "# importing relevant data by using the NewsDataloader class \n",
    "rating = data_loader.get_data(\"rating\")\n",
    "\n",
    "domains_location = data_loader.get_data(\"domains_location\")\n",
    "\n",
    "traffic = data_loader.get_data(\"traffic\")"
   ]
  },
  {
   "cell_type": "markdown",
   "metadata": {},
   "source": [
    "### For further analysis let's take in the data and clean it up for nltk"
   ]
  },
  {
   "cell_type": "markdown",
   "metadata": {},
   "source": [
    "## Text cleaning\n",
    "\n",
    "### Removing noise"
   ]
  },
  {
   "cell_type": "markdown",
   "metadata": {},
   "source": [
    "we will be doing the following:\n",
    "* Remove the stopwords.\n",
    "* Make all the text lowercase.\n",
    "* Remove punctuation.\n",
    "* Normalizing the data by using lemmatization."
   ]
  },
  {
   "cell_type": "code",
   "execution_count": null,
   "metadata": {},
   "outputs": [],
   "source": [
    "rating[[\"title\",\"content\"]] = rating[[\"title\",\"content\"]].map(utils_ml.pre_process)"
   ]
  },
  {
   "cell_type": "markdown",
   "metadata": {},
   "source": [
    "once the data is cleaned we can use TfidfVectorizer and cosine similarity which is included in the \"extract_similarity\" function which recieves two columns and sets the similarity among them in the third column "
   ]
  },
  {
   "cell_type": "code",
   "execution_count": null,
   "metadata": {},
   "outputs": [],
   "source": [
    "utils_ml.extract_similarity(rating,\"title\",\"content\",\"title_content_similarity\")"
   ]
  },
  {
   "cell_type": "code",
   "execution_count": null,
   "metadata": {},
   "outputs": [],
   "source": [
    "utils.histogram(rating,rating[\"title_content_similarity\"],\"Histogram that represents the various title content similarity\",\"Title Content Similarity\",\"Frequency\",figsize=(8,6),bins=50)"
   ]
  },
  {
   "cell_type": "markdown",
   "metadata": {},
   "source": [
    "the histogram shows that there is not much similarity between the content and title"
   ]
  }
 ],
 "metadata": {
  "kernelspec": {
   "display_name": "Python 3",
   "language": "python",
   "name": "python3"
  },
  "language_info": {
   "codemirror_mode": {
    "name": "ipython",
    "version": 3
   },
   "file_extension": ".py",
   "mimetype": "text/x-python",
   "name": "python",
   "nbconvert_exporter": "python",
   "pygments_lexer": "ipython3",
   "version": "3.12.2"
  }
 },
 "nbformat": 4,
 "nbformat_minor": 2
}
