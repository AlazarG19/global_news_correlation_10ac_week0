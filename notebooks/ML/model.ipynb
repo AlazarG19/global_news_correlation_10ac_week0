{
 "cells": [
  {
   "cell_type": "markdown",
   "metadata": {},
   "source": [
    "# Data Science Component Building \n",
    "### time series analysis, classification of headlines,topic modelling and sentimenta analysis and predictive analysis and modelling among various global media agencies\n",
    "\n",
    "This section aims to build various models for our data inorder to gain a deeper understanding. Using the insights we gained from the EDA, we create various pipelines.\n"
   ]
  },
  {
   "cell_type": "markdown",
   "metadata": {},
   "source": [
    "## Tools\n",
    "\n",
    "I'll be using the library like nltk, sklearn, gensim and various other libraries to facilitate in creating various models\n"
   ]
  },
  {
   "cell_type": "code",
   "execution_count": 1,
   "metadata": {},
   "outputs": [],
   "source": [
    "# preparing and importing the necessary packages \n",
    "import pandas as pd\n",
    "import numpy as np\n",
    "import sys\n",
    "import os\n",
    "# Manually setting the correct path to src directory\n",
    "sys.path.append(\"../../../OFFICAL WEEK0\")\n",
    "\n",
    "from src.loader import NewsDataLoader\n",
    "import src.utils_ml as utils_ml\n",
    "import src.utils as utils\n"
   ]
  },
  {
   "cell_type": "code",
   "execution_count": 2,
   "metadata": {},
   "outputs": [],
   "source": [
    "# defining the appropriate path for each path\n",
    "path = {\n",
    "    \"rating\":\"../../data/cleaned_rating.csv\",\n",
    "    \"domains_location\":os.environ['DOMAINS_LOCATION_PATH'],\n",
    "    \"traffic\":\"../../data/cleaned_traffic.csv\"}\n",
    "\n",
    "# initiating the newsdataloader class\n",
    "data_loader = NewsDataLoader(path)"
   ]
  },
  {
   "cell_type": "code",
   "execution_count": 3,
   "metadata": {},
   "outputs": [],
   "source": [
    "# importing relevant data by using the NewsDataloader class \n",
    "rating = data_loader.get_data(\"rating\")\n",
    "\n",
    "domains_location = data_loader.get_data(\"domains_location\")\n",
    "\n",
    "traffic = data_loader.get_data(\"traffic\")"
   ]
  },
  {
   "cell_type": "markdown",
   "metadata": {},
   "source": [
    "### For further analysis let's take in the data and clean it up for nltk"
   ]
  },
  {
   "cell_type": "markdown",
   "metadata": {},
   "source": [
    "## Text cleaning\n",
    "\n",
    "### Removing noise"
   ]
  },
  {
   "cell_type": "markdown",
   "metadata": {},
   "source": [
    "we will be doing the following:\n",
    "* Remove the stopwords.\n",
    "* Make all the text lowercase.\n",
    "* Remove punctuation.\n",
    "* Normalizing the data by using lemmatization."
   ]
  },
  {
   "cell_type": "code",
   "execution_count": 4,
   "metadata": {},
   "outputs": [],
   "source": [
    "rating[[\"title\",\"content\"]] = rating[[\"title\",\"content\"]].map(utils_ml.pre_process)"
   ]
  },
  {
   "cell_type": "markdown",
   "metadata": {},
   "source": [
    "once the data is cleaned we can use TfidfVectorizer and cosine similarity which is included in the \"extract_similarity\" function which recieves two columns and sets the similarity among them in the third column "
   ]
  },
  {
   "cell_type": "code",
   "execution_count": 5,
   "metadata": {},
   "outputs": [],
   "source": [
    "utils_ml.extract_similarity(rating,\"title\",\"content\",\"title_content_similarity\")"
   ]
  },
  {
   "cell_type": "code",
   "execution_count": 6,
   "metadata": {},
   "outputs": [
    {
     "data": {
      "image/png": "[encoded data removed]",
      "text/plain": [
       "<Figure size 800x600 with 1 Axes>"
      ]
     },
     "metadata": {},
     "output_type": "display_data"
    }
   ],
   "source": [
    "utils.histogram(rating,rating[\"title_content_similarity\"],\"Histogram that represents the various title content similarity\",\"Title Content Similarity\",\"Frequency\",figsize=(8,6),bins=50)"
   ]
  },
  {
   "cell_type": "markdown",
   "metadata": {},
   "source": [
    "the histogram shows that there is not much similarity between the content and title"
   ]
  },
  {
   "cell_type": "markdown",
   "metadata": {},
   "source": [
    "next for further analysis let's add the keywords to each column"
   ]
  },
  {
   "cell_type": "code",
   "execution_count": 7,
   "metadata": {},
   "outputs": [],
   "source": [
    "top_features = utils_ml.key_word_extractor(rating[\"content\"])"
   ]
  },
  {
   "cell_type": "code",
   "execution_count": 8,
   "metadata": {},
   "outputs": [
    {
     "data": {
      "text/html": [
       "<div>\n",
       "<style scoped>\n",
       "    .dataframe tbody tr th:only-of-type {\n",
       "        vertical-align: middle;\n",
       "    }\n",
       "\n",
       "    .dataframe tbody tr th {\n",
       "        vertical-align: top;\n",
       "    }\n",
       "\n",
       "    .dataframe thead th {\n",
       "        text-align: right;\n",
       "    }\n",
       "</style>\n",
       "<table border=\"1\" class=\"dataframe\">\n",
       "  <thead>\n",
       "    <tr style=\"text-align: right;\">\n",
       "      <th></th>\n",
       "      <th>top_keywords</th>\n",
       "    </tr>\n",
       "  </thead>\n",
       "  <tbody>\n",
       "    <tr>\n",
       "      <th>0</th>\n",
       "      <td>[london, pavyllon, lane, hotel, park, season, ...</td>\n",
       "    </tr>\n",
       "    <tr>\n",
       "      <th>1</th>\n",
       "      <td>[nice, hicham, clermont, boudaoui, lowly, seco...</td>\n",
       "    </tr>\n",
       "    <tr>\n",
       "      <th>2</th>\n",
       "      <td>[amphibian, salamander, newt, frog, 2579, stud...</td>\n",
       "    </tr>\n",
       "    <tr>\n",
       "      <th>3</th>\n",
       "      <td>[sediment, redorange, ironrich, betsiboka, 756...</td>\n",
       "    </tr>\n",
       "    <tr>\n",
       "      <th>4</th>\n",
       "      <td>[sayi, 3913, existential, streamer, lineup, ma...</td>\n",
       "    </tr>\n",
       "    <tr>\n",
       "      <th>...</th>\n",
       "      <td>...</td>\n",
       "    </tr>\n",
       "    <tr>\n",
       "      <th>54578</th>\n",
       "      <td>[troublesthe, shivakumar, 2527, karnataka, wro...</td>\n",
       "    </tr>\n",
       "    <tr>\n",
       "      <th>54579</th>\n",
       "      <td>[fc, barcelona, mundo, 7676, deportivo, europa...</td>\n",
       "    </tr>\n",
       "    <tr>\n",
       "      <th>54580</th>\n",
       "      <td>[david, story, lubarskys, lubarsky, unsung, fe...</td>\n",
       "    </tr>\n",
       "    <tr>\n",
       "      <th>54581</th>\n",
       "      <td>[farm, kerbers, bringing, village, west, 4513,...</td>\n",
       "    </tr>\n",
       "    <tr>\n",
       "      <th>54582</th>\n",
       "      <td>[upperkey, conside, proptech, 6454, passionate...</td>\n",
       "    </tr>\n",
       "  </tbody>\n",
       "</table>\n",
       "<p>54583 rows × 1 columns</p>\n",
       "</div>"
      ],
      "text/plain": [
       "                                            top_keywords\n",
       "0      [london, pavyllon, lane, hotel, park, season, ...\n",
       "1      [nice, hicham, clermont, boudaoui, lowly, seco...\n",
       "2      [amphibian, salamander, newt, frog, 2579, stud...\n",
       "3      [sediment, redorange, ironrich, betsiboka, 756...\n",
       "4      [sayi, 3913, existential, streamer, lineup, ma...\n",
       "...                                                  ...\n",
       "54578  [troublesthe, shivakumar, 2527, karnataka, wro...\n",
       "54579  [fc, barcelona, mundo, 7676, deportivo, europa...\n",
       "54580  [david, story, lubarskys, lubarsky, unsung, fe...\n",
       "54581  [farm, kerbers, bringing, village, west, 4513,...\n",
       "54582  [upperkey, conside, proptech, 6454, passionate...\n",
       "\n",
       "[54583 rows x 1 columns]"
      ]
     },
     "execution_count": 8,
     "metadata": {},
     "output_type": "execute_result"
    }
   ],
   "source": [
    "top_features"
   ]
  },
  {
   "cell_type": "code",
   "execution_count": 9,
   "metadata": {},
   "outputs": [],
   "source": [
    "rating.reset_index(drop=True, inplace=True)\n",
    "top_features.reset_index(drop=True, inplace=True)\n",
    "rating = pd.concat([rating, top_features], axis=1)"
   ]
  },
  {
   "cell_type": "code",
   "execution_count": 10,
   "metadata": {},
   "outputs": [],
   "source": [
    "topics = {\n",
    "    \"Breaking News\": [\"breaking\", \"news\", \"update\", \"latest\", \"developing\"],\n",
    "    \"Politics\": [\"politics\", \"government\", \"election\", \"candidate\", \"party\"],\n",
    "    \"World News\": [\"world\", \"global\", \"international\", \"foreign\", \"diplomacy\"],\n",
    "    \"Business/Finance\": [\"business\", \"finance\", \"economy\", \"market\", \"stock\"],\n",
    "    \"Technology\": [\"tech\", \"technology\", \"innovation\", \"gadget\", \"startup\"],\n",
    "    \"Science\": [\"science\", \"research\", \"study\", \"experiment\", \"discovery\"],\n",
    "    \"Health\": [\"health\", \"medicine\", \"wellness\", \"fitness\", \"disease\"],\n",
    "    \"Entertainment\": [\"entertainment\", \"movie\", \"tv\", \"music\", \"celebrity\"],\n",
    "    \"Sports\": [\"sports\", \"game\", \"team\", \"player\", \"championship\"],\n",
    "    \"Environment\": [\"environment\", \"climate\", \"sustainability\", \"green\", \"eco\"],\n",
    "    \"Crime\": [\"crime\", \"justice\", \"law\", \"police\", \"investigation\"],\n",
    "    \"Education\": [\"education\", \"school\", \"university\", \"learning\", \"teacher\"],\n",
    "    \"Weather\": [\"weather\", \"forecast\", \"climate\", \"storm\", \"hurricane\"],\n",
    "    \"Other\": [\"misc\", \"general\", \"random\", \"unknown\", \"unclassified\"]\n",
    "}"
   ]
  },
  {
   "cell_type": "markdown",
   "metadata": {},
   "source": [
    "For categorizing the text to the above topics let's use both the title and the extracted keywords"
   ]
  },
  {
   "cell_type": "code",
   "execution_count": 11,
   "metadata": {},
   "outputs": [],
   "source": [
    "\n",
    "title_tag = pd.DataFrame(utils_ml.categorize_headlines(rating['title'], topics),columns=[\"title_tag\"])\n",
    "\n",
    "keyword_tag = pd.DataFrame(utils_ml.categorize_headlines(rating['top_keywords'].apply(lambda x:\" \".join(x)), topics),columns=[\"keyword_tag\"])\n",
    "\n",
    "title_tag.reset_index(drop=True, inplace=True)\n",
    "keyword_tag.reset_index(drop=True, inplace=True)\n",
    "\n",
    "# let's combine it to fill columns with other tags so that it could be more descriptive\n",
    "title_keyword_merged = pd.concat([title_tag, keyword_tag], axis=1)"
   ]
  },
  {
   "cell_type": "code",
   "execution_count": 12,
   "metadata": {},
   "outputs": [],
   "source": [
    "title_keyword_merged.reset_index(drop=True, inplace=True)\n",
    "keyword_tag.reset_index(drop=True, inplace=True)\n",
    "\n",
    "# let's combine it to fill columns with other tags so that it could be more descriptive\n",
    "title_keyword_merged = pd.concat([title_tag, keyword_tag], axis=1)"
   ]
  },
  {
   "cell_type": "code",
   "execution_count": 13,
   "metadata": {},
   "outputs": [
    {
     "data": {
      "text/html": [
       "<div>\n",
       "<style scoped>\n",
       "    .dataframe tbody tr th:only-of-type {\n",
       "        vertical-align: middle;\n",
       "    }\n",
       "\n",
       "    .dataframe tbody tr th {\n",
       "        vertical-align: top;\n",
       "    }\n",
       "\n",
       "    .dataframe thead th {\n",
       "        text-align: right;\n",
       "    }\n",
       "</style>\n",
       "<table border=\"1\" class=\"dataframe\">\n",
       "  <thead>\n",
       "    <tr style=\"text-align: right;\">\n",
       "      <th></th>\n",
       "      <th>title_tag</th>\n",
       "      <th>keyword_tag</th>\n",
       "    </tr>\n",
       "  </thead>\n",
       "  <tbody>\n",
       "    <tr>\n",
       "      <th>0</th>\n",
       "      <td>Other</td>\n",
       "      <td>Other</td>\n",
       "    </tr>\n",
       "    <tr>\n",
       "      <th>1</th>\n",
       "      <td>Other</td>\n",
       "      <td>Environment</td>\n",
       "    </tr>\n",
       "    <tr>\n",
       "      <th>2</th>\n",
       "      <td>World News</td>\n",
       "      <td>Other</td>\n",
       "    </tr>\n",
       "    <tr>\n",
       "      <th>3</th>\n",
       "      <td>Other</td>\n",
       "      <td>Other</td>\n",
       "    </tr>\n",
       "    <tr>\n",
       "      <th>4</th>\n",
       "      <td>Other</td>\n",
       "      <td>Other</td>\n",
       "    </tr>\n",
       "    <tr>\n",
       "      <th>...</th>\n",
       "      <td>...</td>\n",
       "      <td>...</td>\n",
       "    </tr>\n",
       "    <tr>\n",
       "      <th>54578</th>\n",
       "      <td>Politics</td>\n",
       "      <td>Other</td>\n",
       "    </tr>\n",
       "    <tr>\n",
       "      <th>54579</th>\n",
       "      <td>Other</td>\n",
       "      <td>Other</td>\n",
       "    </tr>\n",
       "    <tr>\n",
       "      <th>54580</th>\n",
       "      <td>Other</td>\n",
       "      <td>Other</td>\n",
       "    </tr>\n",
       "    <tr>\n",
       "      <th>54581</th>\n",
       "      <td>Other</td>\n",
       "      <td>Other</td>\n",
       "    </tr>\n",
       "    <tr>\n",
       "      <th>54582</th>\n",
       "      <td>Other</td>\n",
       "      <td>Technology</td>\n",
       "    </tr>\n",
       "  </tbody>\n",
       "</table>\n",
       "<p>54583 rows × 2 columns</p>\n",
       "</div>"
      ],
      "text/plain": [
       "        title_tag  keyword_tag\n",
       "0           Other        Other\n",
       "1           Other  Environment\n",
       "2      World News        Other\n",
       "3           Other        Other\n",
       "4           Other        Other\n",
       "...           ...          ...\n",
       "54578    Politics        Other\n",
       "54579       Other        Other\n",
       "54580       Other        Other\n",
       "54581       Other        Other\n",
       "54582       Other   Technology\n",
       "\n",
       "[54583 rows x 2 columns]"
      ]
     },
     "execution_count": 13,
     "metadata": {},
     "output_type": "execute_result"
    }
   ],
   "source": [
    "title_keyword_merged"
   ]
  },
  {
   "cell_type": "code",
   "execution_count": 14,
   "metadata": {},
   "outputs": [
    {
     "data": {
      "text/html": [
       "<div>\n",
       "<style scoped>\n",
       "    .dataframe tbody tr th:only-of-type {\n",
       "        vertical-align: middle;\n",
       "    }\n",
       "\n",
       "    .dataframe tbody tr th {\n",
       "        vertical-align: top;\n",
       "    }\n",
       "\n",
       "    .dataframe thead th {\n",
       "        text-align: right;\n",
       "    }\n",
       "</style>\n",
       "<table border=\"1\" class=\"dataframe\">\n",
       "  <thead>\n",
       "    <tr style=\"text-align: right;\">\n",
       "      <th></th>\n",
       "      <th>title_tag</th>\n",
       "      <th>keyword_tag</th>\n",
       "    </tr>\n",
       "  </thead>\n",
       "  <tbody>\n",
       "    <tr>\n",
       "      <th>0</th>\n",
       "      <td>Other</td>\n",
       "      <td>Other</td>\n",
       "    </tr>\n",
       "    <tr>\n",
       "      <th>1</th>\n",
       "      <td>Other</td>\n",
       "      <td>Environment</td>\n",
       "    </tr>\n",
       "    <tr>\n",
       "      <th>2</th>\n",
       "      <td>World News</td>\n",
       "      <td>Other</td>\n",
       "    </tr>\n",
       "    <tr>\n",
       "      <th>3</th>\n",
       "      <td>Other</td>\n",
       "      <td>Other</td>\n",
       "    </tr>\n",
       "    <tr>\n",
       "      <th>4</th>\n",
       "      <td>Other</td>\n",
       "      <td>Other</td>\n",
       "    </tr>\n",
       "    <tr>\n",
       "      <th>...</th>\n",
       "      <td>...</td>\n",
       "      <td>...</td>\n",
       "    </tr>\n",
       "    <tr>\n",
       "      <th>54578</th>\n",
       "      <td>Politics</td>\n",
       "      <td>Other</td>\n",
       "    </tr>\n",
       "    <tr>\n",
       "      <th>54579</th>\n",
       "      <td>Other</td>\n",
       "      <td>Other</td>\n",
       "    </tr>\n",
       "    <tr>\n",
       "      <th>54580</th>\n",
       "      <td>Other</td>\n",
       "      <td>Other</td>\n",
       "    </tr>\n",
       "    <tr>\n",
       "      <th>54581</th>\n",
       "      <td>Other</td>\n",
       "      <td>Other</td>\n",
       "    </tr>\n",
       "    <tr>\n",
       "      <th>54582</th>\n",
       "      <td>Other</td>\n",
       "      <td>Technology</td>\n",
       "    </tr>\n",
       "  </tbody>\n",
       "</table>\n",
       "<p>54583 rows × 2 columns</p>\n",
       "</div>"
      ],
      "text/plain": [
       "        title_tag  keyword_tag\n",
       "0           Other        Other\n",
       "1           Other  Environment\n",
       "2      World News        Other\n",
       "3           Other        Other\n",
       "4           Other        Other\n",
       "...           ...          ...\n",
       "54578    Politics        Other\n",
       "54579       Other        Other\n",
       "54580       Other        Other\n",
       "54581       Other        Other\n",
       "54582       Other   Technology\n",
       "\n",
       "[54583 rows x 2 columns]"
      ]
     },
     "execution_count": 14,
     "metadata": {},
     "output_type": "execute_result"
    }
   ],
   "source": [
    "title_keyword_merged"
   ]
  },
  {
   "cell_type": "code",
   "execution_count": 15,
   "metadata": {},
   "outputs": [],
   "source": [
    "def combine_values(val1, val2):\n",
    "    \n",
    "    if val1 == 'Other':\n",
    "        if val2 == \"Other\":\n",
    "            return \"Other\"\n",
    "        else:\n",
    "            return val2\n",
    "    else:\n",
    "        if val2 == \"Other\":\n",
    "            return val1\n",
    "        elif val1 == val2 :\n",
    "            return val1\n",
    "        else:\n",
    "            val1 = [x.strip() for x in val1.split(\",\")]\n",
    "            val2 = [x.strip() for x in val2.split(\",\")]\n",
    "            valcombined = val1+val2\n",
    "            return \", \".join(list(set(valcombined)))\n",
    "title_keyword_merged_result = title_keyword_merged.apply(lambda row: combine_values(*[row[\"title_tag\"], row[\"keyword_tag\"]]),axis=1)"
   ]
  },
  {
   "cell_type": "code",
   "execution_count": 16,
   "metadata": {},
   "outputs": [],
   "source": [
    "title_keyword_merged_result.reset_index(drop=True, inplace=True)\n",
    "rating.reset_index(drop=True, inplace=True)\n",
    "\n",
    "# let's combine it to fill columns with other tags so that it could be more descriptive\n",
    "rating = pd.concat([rating, title_keyword_merged_result], axis=1)"
   ]
  },
  {
   "cell_type": "code",
   "execution_count": 17,
   "metadata": {},
   "outputs": [],
   "source": [
    "# converting the names inorder to make easier for later\n",
    "rating_names = {0:\"categories_known\"}\n",
    "rating.rename(columns=rating_names,inplace=True)"
   ]
  },
  {
   "cell_type": "markdown",
   "metadata": {},
   "source": [
    "### Topic Modeling"
   ]
  },
  {
   "cell_type": "markdown",
   "metadata": {},
   "source": [
    "There are three ways to appraoch topic modeling, the first is using tfidfvectorizer with TruncatedSVD, the second is using an lda model lastly we will use bertopic"
   ]
  },
  {
   "cell_type": "markdown",
   "metadata": {},
   "source": [
    "Let's try both appraoches and check if there are similarities between the topics generated"
   ]
  },
  {
   "cell_type": "markdown",
   "metadata": {},
   "source": [
    "#### First Approach : Using TfIdf Vectorizer with Truncated SVD"
   ]
  },
  {
   "cell_type": "code",
   "execution_count": 18,
   "metadata": {},
   "outputs": [
    {
     "name": "stdout",
     "output_type": "stream",
     "text": [
      "['Topic 0: ', 'report', 'share', 'free', 'llc', 'quarter', 'according', 'recent']\n",
      "['Topic 1: ', 'market', '2023', 'nov', 'globe', 'newswire', 'global', 'billion']\n",
      "['Topic 2: ', 'traded', 'rating', 'price', 'report', 'stock', 'share', 'stocknewscom']\n",
      "['Topic 3: ', 'market', 'rating', 'research', 'report', 'stocknewscom', 'billion', 'usd']\n",
      "['Topic 4: ', 'traded', 'stock', 'trading', 'high', 'low', 'share', 'market']\n",
      "['Topic 5: ', 'earnings', 'result', 'november', 'quarterly', 'dividend', '2023', 'company']\n",
      "['Topic 6: ', 'gaza', 'israel', 'hamas', 'israeli', 'war', 'palestinian', 'stock']\n",
      "['Topic 7: ', 'short', 'october', 'target', '31st', 'totalling', 'month', 'price']\n",
      "['Topic 8: ', 'stock', 'share', 'sold', 'transaction', 'stocknewscom', 'rating', 'november']\n",
      "['Topic 9: ', 'india', 'world', 'earnings', 'market', 'cup', 'quarterly', 'dividend']\n"
     ]
    }
   ],
   "source": [
    "from sklearn.feature_extraction.text import TfidfVectorizer\n",
    "from sklearn.decomposition import TruncatedSVD\n",
    "\n",
    "topic_tfidf = TfidfVectorizer(stop_words=\"english\", max_features= 1000, max_df = 0.5, smooth_idf=True)\n",
    "topic_vector = topic_tfidf.fit_transform(rating[\"title\"]+\" \"+ rating[\"content\"])\n",
    "topic_vector_array= topic_vector.toarray()\n",
    "svd_model = TruncatedSVD(n_components=10, algorithm='randomized', n_iter=100, random_state=122)\n",
    "svd_model.fit(topic_vector_array)\n",
    "topic_vector_array_reduced = svd_model.transform(topic_vector_array)\n",
    "\n",
    "terms = topic_tfidf.get_feature_names_out()\n",
    "topics = []\n",
    "\n",
    "for i, comp in enumerate(svd_model.components_):\n",
    "    terms_comp = zip(terms, comp)\n",
    "    sorted_terms = sorted(terms_comp, key= lambda x:x[1], reverse=True)[:7]\n",
    "    topics.append(\"Topic \"+str(i)+\": \")\n",
    "    for t in sorted_terms:\n",
    "        topics.append(t[0])\n",
    "\n",
    "final_topic_list = [topics[i:i+8] for i in range(0, len(topics), 8)]\n",
    "\n",
    "for x in final_topic_list:\n",
    "    print (x)"
   ]
  },
  {
   "cell_type": "code",
   "execution_count": 19,
   "metadata": {},
   "outputs": [
    {
     "data": {
      "text/plain": [
       "{'Topic 0': ['inc', 'share', 'stock', 'llc', 'holding', 'management', 'co'],\n",
       " 'Topic 1': ['market', 'stock', 'billion', 'price', 'usd', 'cagr', 'global'],\n",
       " 'Topic 2': ['share', 'market', 'billion', 'sell', 'usd', 'cagr', 'global'],\n",
       " 'Topic 3': ['price', 'new', 'target', 'share', 'group', 'analyst', 'given'],\n",
       " 'Topic 4': ['new', '2023', 'result', 'investment', 'llc', 'quarter', 'say'],\n",
       " 'Topic 5': ['2023',\n",
       "  'result',\n",
       "  'financial',\n",
       "  'quarter',\n",
       "  'inc',\n",
       "  'earnings',\n",
       "  'third'],\n",
       " 'Topic 6': ['inc', 'new', 'group', 'sell', 'analyst', 'interest', 'set'],\n",
       " 'Topic 7': ['gaza', 'israel', 'say', 'war', 'hamas', 'stock', 'attack'],\n",
       " 'Topic 8': ['stock', 'new', 'sell', 'share', 'co', 'update', 'insider'],\n",
       " 'Topic 9': ['group',\n",
       "  'stocknewscom',\n",
       "  'rating',\n",
       "  'buy',\n",
       "  'coverage',\n",
       "  'co',\n",
       "  'analyst']}"
      ]
     },
     "execution_count": 19,
     "metadata": {},
     "output_type": "execute_result"
    }
   ],
   "source": [
    "\n",
    "utils_ml.topic_modelling_tfidf(rating[\"title\"],max_features=1000, max_df = 0.5,n_components=10,n_iter=100,random_state=122)"
   ]
  },
  {
   "cell_type": "markdown",
   "metadata": {},
   "source": [
    "Second Approach is to use LDA for topic modelling and assign which documents belong to which topic"
   ]
  },
  {
   "cell_type": "markdown",
   "metadata": {},
   "source": [
    "we'll vectorize and then create and apply the LDA model. Detailed funcion implementatin is shown in the utils_ml file"
   ]
  },
  {
   "cell_type": "code",
   "execution_count": 20,
   "metadata": {},
   "outputs": [],
   "source": [
    "lda_model,model_output,vectorizer,topics = utils_ml.topic_modelling_lda(rating['title'],10)"
   ]
  },
  {
   "cell_type": "code",
   "execution_count": 21,
   "metadata": {},
   "outputs": [
    {
     "data": {
      "text/plain": [
       "{'Topic 0': ['future',\n",
       "  'industry',\n",
       "  'limited',\n",
       "  'rating',\n",
       "  'international',\n",
       "  'day',\n",
       "  'set',\n",
       "  'target',\n",
       "  '2023',\n",
       "  'report'],\n",
       " 'Topic 1': ['analyst',\n",
       "  'earnings',\n",
       "  'new',\n",
       "  'llc',\n",
       "  'company',\n",
       "  'price',\n",
       "  'investment',\n",
       "  'group',\n",
       "  'share',\n",
       "  'inc'],\n",
       " 'Topic 2': ['action',\n",
       "  'hold',\n",
       "  '2032',\n",
       "  'research',\n",
       "  'plan',\n",
       "  'cut',\n",
       "  'update',\n",
       "  'trust',\n",
       "  'cagr',\n",
       "  'market'],\n",
       " 'Topic 3': ['llc',\n",
       "  'short',\n",
       "  'interest',\n",
       "  'growth',\n",
       "  'ukraine',\n",
       "  'corp',\n",
       "  'stock',\n",
       "  'capital',\n",
       "  'position',\n",
       "  'management'],\n",
       " 'Topic 4': ['wealth',\n",
       "  'asset',\n",
       "  'service',\n",
       "  'advisor',\n",
       "  'financial',\n",
       "  'buy',\n",
       "  'llc',\n",
       "  'million',\n",
       "  'sell',\n",
       "  'stock'],\n",
       " 'Topic 5': ['trading',\n",
       "  'system',\n",
       "  'black',\n",
       "  'make',\n",
       "  'best',\n",
       "  'dividend',\n",
       "  'size',\n",
       "  'deal',\n",
       "  'inc',\n",
       "  'holding'],\n",
       " 'Topic 6': ['amid',\n",
       "  'coverage',\n",
       "  'top',\n",
       "  'war',\n",
       "  'stocknewscom',\n",
       "  'usd',\n",
       "  'india',\n",
       "  'israel',\n",
       "  'say',\n",
       "  'gaza'],\n",
       " 'Topic 7': ['show',\n",
       "  'watch',\n",
       "  'canada',\n",
       "  '2023',\n",
       "  '2024',\n",
       "  'release',\n",
       "  'first',\n",
       "  'result',\n",
       "  'reach',\n",
       "  'bank'],\n",
       " 'Topic 8': ['year',\n",
       "  'investor',\n",
       "  'energy',\n",
       "  'stake',\n",
       "  'partner',\n",
       "  'announces',\n",
       "  'technology',\n",
       "  'world',\n",
       "  'global',\n",
       "  'billion'],\n",
       " 'Topic 9': ['here',\n",
       "  'week',\n",
       "  'forecast',\n",
       "  'american',\n",
       "  'home',\n",
       "  'health',\n",
       "  'high',\n",
       "  'state',\n",
       "  'hit',\n",
       "  'new']}"
      ]
     },
     "execution_count": 21,
     "metadata": {},
     "output_type": "execute_result"
    }
   ],
   "source": [
    "# displaying the topics\n",
    "topics"
   ]
  },
  {
   "cell_type": "code",
   "execution_count": 22,
   "metadata": {},
   "outputs": [],
   "source": [
    "topicnames = [\"Topic \" + str(i) for i in range(10)]\n",
    "docnames = [\"Document \" + str(i) for i in range(len(rating['title']))]\n",
    "\n",
    "df_document_topic = pd.DataFrame(np.round(model_output, 2), columns=topicnames, index=docnames)\n",
    "main_topic = np.argmax(df_document_topic.values, axis=1)\n",
    "\n",
    "rating['main_topic'] = main_topic"
   ]
  },
  {
   "cell_type": "code",
   "execution_count": 38,
   "metadata": {},
   "outputs": [
    {
     "data": {
      "text/plain": [
       "54583"
      ]
     },
     "execution_count": 38,
     "metadata": {},
     "output_type": "execute_result"
    }
   ],
   "source": [
    "rating.groupby['main_topic'].count()"
   ]
  },
  {
   "cell_type": "code",
   "execution_count": 39,
   "metadata": {},
   "outputs": [
    {
     "name": "stderr",
     "output_type": "stream",
     "text": [
      "c:\\Users\\alaza\\OneDrive\\Desktop\\Offical Week0\\notebooks\\ML\\../../../OFFICAL WEEK0\\src\\utils.py:69: UserWarning: set_ticklabels() should only be used with a fixed number of ticks, i.e. after set_ticks() or using a FixedLocator.\n",
      "  sns_plot.set_xticklabels(sns_plot.get_xticklabels(), rotation=45, horizontalalignment=\"right\")\n"
     ]
    },
    {
     "data": {
      "image/png": "[encoded data removed]",
      "text/plain": [
       "<Figure size 1800x600 with 1 Axes>"
      ]
     },
     "metadata": {},
     "output_type": "display_data"
    }
   ],
   "source": [
    "grouped_main_topic = rating.groupby(\"main_topic\")[\"article_id\"].count()\n",
    "utils.barchart(x_axis=grouped_main_topic.index,y_axis=grouped_main_topic.values,x_label=\"Main Topics\",y_label=\"Frequency\",title=\"Amount of articles that belong to each topic\",orientation=\"vertical\")"
   ]
  },
  {
   "cell_type": "code",
   "execution_count": 24,
   "metadata": {},
   "outputs": [
    {
     "name": "stdout",
     "output_type": "stream",
     "text": [
      "[6902 9392 5468 5951 6006 4808 4644 3220 4439 3753]\n",
      "Index([0, 1, 2, 3, 4, 5, 6, 7, 8, 9], dtype='int64', name='main_topic')\n"
     ]
    },
    {
     "data": {
      "image/png": "[encoded data removed]",
      "text/plain": [
       "<Figure size 800x600 with 1 Axes>"
      ]
     },
     "metadata": {},
     "output_type": "display_data"
    }
   ],
   "source": [
    "utils.pie_chart(title=\"PieChart For Main Topics\",count=grouped_main_topic.values,labels=grouped_main_topic.index)\n",
    "# utils.barchart(x_axis=grouped_main_topic.index,y_axis=grouped_main_topic.values,x_label=\"Main Topics\",y_label=\"Frequency\",title=\"Amount of articles that belong to each topic\",orientation=\"vertical\")"
   ]
  }
 ],
 "metadata": {
  "kernelspec": {
   "display_name": "Python 3",
   "language": "python",
   "name": "python3"
  },
  "language_info": {
   "codemirror_mode": {
    "name": "ipython",
    "version": 3
   },
   "file_extension": ".py",
   "mimetype": "text/x-python",
   "name": "python",
   "nbconvert_exporter": "python",
   "pygments_lexer": "ipython3",
   "version": "3.12.2"
  }
 },
 "nbformat": 4,
 "nbformat_minor": 2
}
