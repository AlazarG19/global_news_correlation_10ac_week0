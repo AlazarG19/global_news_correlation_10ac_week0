{
 "cells": [
  {
   "cell_type": "markdown",
   "metadata": {},
   "source": [
    "# Data Science Component Building \n",
    "### time series analysis, classification of headlines,topic modelling and sentimenta analysis and predictive analysis and modelling among various global media agencies\n",
    "\n",
    "This section aims to build various models for our data inorder to gain a deeper understanding. Using the insights we gained from the EDA, we create various pipelines.\n"
   ]
  },
  {
   "cell_type": "markdown",
   "metadata": {},
   "source": [
    "## Tools\n",
    "\n",
    "I'll be using the library like nltk, sklearn, gensim and various other libraries to facilitate in creating various models\n"
   ]
  },
  {
   "cell_type": "code",
   "execution_count": null,
   "metadata": {},
   "outputs": [],
   "source": [
    "# preparing and importing the necessary packages \n",
    "import pandas as pd\n",
    "import numpy as np\n",
    "import sys\n",
    "import os\n",
    "# Manually setting the correct path to src directory\n",
    "sys.path.append(\"../../../OFFICAL WEEK0\")\n",
    "\n",
    "from src.loader import NewsDataLoader\n",
    "import src.utils_ml as utils_ml\n",
    "import src.utils as utils\n"
   ]
  },
  {
   "cell_type": "code",
   "execution_count": null,
   "metadata": {},
   "outputs": [],
   "source": [
    "# defining the appropriate path for each path\n",
    "path = {\n",
    "    \"rating\":\"../../data/cleaned_rating.csv\",\n",
    "    \"domains_location\":os.environ['DOMAINS_LOCATION_PATH'],\n",
    "    \"traffic\":\"../../data/cleaned_traffic.csv\"}\n",
    "\n",
    "# initiating the newsdataloader class\n",
    "data_loader = NewsDataLoader(path)"
   ]
  },
  {
   "cell_type": "code",
   "execution_count": null,
   "metadata": {},
   "outputs": [],
   "source": [
    "# importing relevant data by using the NewsDataloader class \n",
    "rating = data_loader.get_data(\"rating\")\n",
    "\n",
    "domains_location = data_loader.get_data(\"domains_location\")\n",
    "\n",
    "traffic = data_loader.get_data(\"traffic\")"
   ]
  }
 ],
 "metadata": {
  "kernelspec": {
   "display_name": "Python 3",
   "language": "python",
   "name": "python3"
  },
  "language_info": {
   "name": "python",
   "version": "3.12.2"
  }
 },
 "nbformat": 4,
 "nbformat_minor": 2
}
